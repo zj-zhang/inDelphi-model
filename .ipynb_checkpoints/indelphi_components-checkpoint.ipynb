{
 "cells": [
  {
   "cell_type": "markdown",
   "metadata": {},
   "source": [
    "# inDelphi components\n",
    "Run each component of inDephi to understand its inputs/outputs\n",
    "\n",
    "To be run in the GitHub repo root folder: https://github.com/zj-zhang/inDelphi-model\n",
    "\n",
    "## 1. Get the prediction to run"
   ]
  },
  {
   "cell_type": "code",
   "execution_count": 1,
   "metadata": {},
   "outputs": [],
   "source": [
    "%run inDelphi.py"
   ]
  },
  {
   "cell_type": "code",
   "execution_count": 2,
   "metadata": {},
   "outputs": [
    {
     "name": "stdout",
     "output_type": "stream",
     "text": [
      "Initializing model aax/aag, mESC...\n",
      "Done\n"
     ]
    },
    {
     "name": "stderr",
     "output_type": "stream",
     "text": [
      "/Users/zzjfrank/workspace/programs/anaconda3/envs/croton/lib/python3.7/site-packages/sklearn/base.py:306: UserWarning: Trying to unpickle estimator KNeighborsRegressor from version 0.20.0 when using version 0.21.3. This might lead to breaking code or invalid results. Use at your own risk.\n",
      "  UserWarning)\n",
      "/Users/zzjfrank/workspace/programs/anaconda3/envs/croton/lib/python3.7/site-packages/pandas/core/frame.py:7123: FutureWarning: Sorting because non-concatenation axis is not aligned. A future version\n",
      "of pandas will change to not sort by default.\n",
      "\n",
      "To accept the future behavior, pass 'sort=False'.\n",
      "\n",
      "To retain the current behavior and silence the warning, pass 'sort=True'.\n",
      "\n",
      "  sort=sort,\n"
     ]
    }
   ],
   "source": [
    "# the example sequence in inDelphi webserver\n",
    "left = 'GCAGTCAGTGCAGTAGAGGATGTGTCGCTCTCCCGTACGGCGTGAAAATGACTAGCAAAG'\n",
    "right = 'TTGGGGCCTTTTTGGAAGACCTAGAGCCTTAGGCCACGGTACACAATGGTGTCCTGCATA'\n",
    "seq = left + right\n",
    "cutsite = len(left)\n",
    "\n",
    "pred_df, stats = predict(seq, cutsite)"
   ]
  },
  {
   "cell_type": "code",
   "execution_count": 3,
   "metadata": {},
   "outputs": [
    {
     "data": {
      "text/html": [
       "<div>\n",
       "<style scoped>\n",
       "    .dataframe tbody tr th:only-of-type {\n",
       "        vertical-align: middle;\n",
       "    }\n",
       "\n",
       "    .dataframe tbody tr th {\n",
       "        vertical-align: top;\n",
       "    }\n",
       "\n",
       "    .dataframe thead th {\n",
       "        text-align: right;\n",
       "    }\n",
       "</style>\n",
       "<table border=\"1\" class=\"dataframe\">\n",
       "  <thead>\n",
       "    <tr style=\"text-align: right;\">\n",
       "      <th></th>\n",
       "      <th>Category</th>\n",
       "      <th>Genotype position</th>\n",
       "      <th>Inserted Bases</th>\n",
       "      <th>Length</th>\n",
       "      <th>Predicted frequency</th>\n",
       "    </tr>\n",
       "  </thead>\n",
       "  <tbody>\n",
       "    <tr>\n",
       "      <td>0</td>\n",
       "      <td>del</td>\n",
       "      <td>3</td>\n",
       "      <td>NaN</td>\n",
       "      <td>3</td>\n",
       "      <td>6.202139e+00</td>\n",
       "    </tr>\n",
       "    <tr>\n",
       "      <td>1</td>\n",
       "      <td>del</td>\n",
       "      <td>4</td>\n",
       "      <td>NaN</td>\n",
       "      <td>4</td>\n",
       "      <td>4.830230e+00</td>\n",
       "    </tr>\n",
       "    <tr>\n",
       "      <td>2</td>\n",
       "      <td>del</td>\n",
       "      <td>5</td>\n",
       "      <td>NaN</td>\n",
       "      <td>5</td>\n",
       "      <td>3.761787e+00</td>\n",
       "    </tr>\n",
       "    <tr>\n",
       "      <td>3</td>\n",
       "      <td>del</td>\n",
       "      <td>6</td>\n",
       "      <td>NaN</td>\n",
       "      <td>6</td>\n",
       "      <td>2.929683e+00</td>\n",
       "    </tr>\n",
       "    <tr>\n",
       "      <td>4</td>\n",
       "      <td>del</td>\n",
       "      <td>1</td>\n",
       "      <td>NaN</td>\n",
       "      <td>8</td>\n",
       "      <td>1.662877e+00</td>\n",
       "    </tr>\n",
       "    <tr>\n",
       "      <td>...</td>\n",
       "      <td>...</td>\n",
       "      <td>...</td>\n",
       "      <td>...</td>\n",
       "      <td>...</td>\n",
       "      <td>...</td>\n",
       "    </tr>\n",
       "    <tr>\n",
       "      <td>420</td>\n",
       "      <td>del</td>\n",
       "      <td>e</td>\n",
       "      <td>NaN</td>\n",
       "      <td>59</td>\n",
       "      <td>9.835646e-07</td>\n",
       "    </tr>\n",
       "    <tr>\n",
       "      <td>421</td>\n",
       "      <td>ins</td>\n",
       "      <td>NaN</td>\n",
       "      <td>A</td>\n",
       "      <td>1</td>\n",
       "      <td>2.487494e+00</td>\n",
       "    </tr>\n",
       "    <tr>\n",
       "      <td>422</td>\n",
       "      <td>ins</td>\n",
       "      <td>NaN</td>\n",
       "      <td>C</td>\n",
       "      <td>1</td>\n",
       "      <td>1.774295e+00</td>\n",
       "    </tr>\n",
       "    <tr>\n",
       "      <td>423</td>\n",
       "      <td>ins</td>\n",
       "      <td>NaN</td>\n",
       "      <td>T</td>\n",
       "      <td>1</td>\n",
       "      <td>9.586309e+00</td>\n",
       "    </tr>\n",
       "    <tr>\n",
       "      <td>424</td>\n",
       "      <td>ins</td>\n",
       "      <td>NaN</td>\n",
       "      <td>G</td>\n",
       "      <td>1</td>\n",
       "      <td>5.200470e+00</td>\n",
       "    </tr>\n",
       "  </tbody>\n",
       "</table>\n",
       "<p>425 rows × 5 columns</p>\n",
       "</div>"
      ],
      "text/plain": [
       "    Category Genotype position Inserted Bases  Length  Predicted frequency\n",
       "0        del                 3            NaN       3         6.202139e+00\n",
       "1        del                 4            NaN       4         4.830230e+00\n",
       "2        del                 5            NaN       5         3.761787e+00\n",
       "3        del                 6            NaN       6         2.929683e+00\n",
       "4        del                 1            NaN       8         1.662877e+00\n",
       "..       ...               ...            ...     ...                  ...\n",
       "420      del                 e            NaN      59         9.835646e-07\n",
       "421      ins               NaN              A       1         2.487494e+00\n",
       "422      ins               NaN              C       1         1.774295e+00\n",
       "423      ins               NaN              T       1         9.586309e+00\n",
       "424      ins               NaN              G       1         5.200470e+00\n",
       "\n",
       "[425 rows x 5 columns]"
      ]
     },
     "execution_count": 3,
     "metadata": {},
     "output_type": "execute_result"
    }
   ],
   "source": [
    "pred_df"
   ]
  },
  {
   "cell_type": "markdown",
   "metadata": {},
   "source": [
    "Only 1-bp inseration is predicted:"
   ]
  },
  {
   "cell_type": "code",
   "execution_count": 4,
   "metadata": {},
   "outputs": [
    {
     "data": {
      "text/html": [
       "<div>\n",
       "<style scoped>\n",
       "    .dataframe tbody tr th:only-of-type {\n",
       "        vertical-align: middle;\n",
       "    }\n",
       "\n",
       "    .dataframe tbody tr th {\n",
       "        vertical-align: top;\n",
       "    }\n",
       "\n",
       "    .dataframe thead th {\n",
       "        text-align: right;\n",
       "    }\n",
       "</style>\n",
       "<table border=\"1\" class=\"dataframe\">\n",
       "  <thead>\n",
       "    <tr style=\"text-align: right;\">\n",
       "      <th></th>\n",
       "      <th>Category</th>\n",
       "      <th>Genotype position</th>\n",
       "      <th>Inserted Bases</th>\n",
       "      <th>Length</th>\n",
       "      <th>Predicted frequency</th>\n",
       "    </tr>\n",
       "  </thead>\n",
       "  <tbody>\n",
       "    <tr>\n",
       "      <td>421</td>\n",
       "      <td>ins</td>\n",
       "      <td>NaN</td>\n",
       "      <td>A</td>\n",
       "      <td>1</td>\n",
       "      <td>2.487494</td>\n",
       "    </tr>\n",
       "    <tr>\n",
       "      <td>422</td>\n",
       "      <td>ins</td>\n",
       "      <td>NaN</td>\n",
       "      <td>C</td>\n",
       "      <td>1</td>\n",
       "      <td>1.774295</td>\n",
       "    </tr>\n",
       "    <tr>\n",
       "      <td>423</td>\n",
       "      <td>ins</td>\n",
       "      <td>NaN</td>\n",
       "      <td>T</td>\n",
       "      <td>1</td>\n",
       "      <td>9.586309</td>\n",
       "    </tr>\n",
       "    <tr>\n",
       "      <td>424</td>\n",
       "      <td>ins</td>\n",
       "      <td>NaN</td>\n",
       "      <td>G</td>\n",
       "      <td>1</td>\n",
       "      <td>5.200470</td>\n",
       "    </tr>\n",
       "  </tbody>\n",
       "</table>\n",
       "</div>"
      ],
      "text/plain": [
       "    Category Genotype position Inserted Bases  Length  Predicted frequency\n",
       "421      ins               NaN              A       1             2.487494\n",
       "422      ins               NaN              C       1             1.774295\n",
       "423      ins               NaN              T       1             9.586309\n",
       "424      ins               NaN              G       1             5.200470"
      ]
     },
     "execution_count": 4,
     "metadata": {},
     "output_type": "execute_result"
    }
   ],
   "source": [
    "pred_df.loc[pred_df['Category']=='ins']"
   ]
  },
  {
   "cell_type": "code",
   "execution_count": 5,
   "metadata": {},
   "outputs": [
    {
     "data": {
      "text/plain": [
       "<matplotlib.axes._subplots.AxesSubplot at 0x7faf63814f90>"
      ]
     },
     "execution_count": 5,
     "metadata": {},
     "output_type": "execute_result"
    }
   ],
   "source": [
    "import matplotlib.pyplot as plt\n",
    "import seaborn as sns\n",
    "sns.distplot(pred_df['Predicted frequency'])"
   ]
  },
  {
   "cell_type": "markdown",
   "metadata": {},
   "source": [
    "## 2. Dissemble `predict_dels`"
   ]
  },
  {
   "cell_type": "code",
   "execution_count": 6,
   "metadata": {},
   "outputs": [
    {
     "data": {
      "text/plain": [
       "(362, 2)"
      ]
     },
     "execution_count": 6,
     "metadata": {},
     "output_type": "execute_result"
    }
   ],
   "source": [
    "mh_len, gc_frac, gt_pos, del_len = __featurize(seq, cutsite)\n",
    "pred_input = np.array([mh_len, gc_frac]).T\n",
    "del_lens = np.array(del_len).T\n",
    "\n",
    "pred_input.shape"
   ]
  },
  {
   "cell_type": "code",
   "execution_count": 7,
   "metadata": {},
   "outputs": [
    {
     "name": "stdout",
     "output_type": "stream",
     "text": [
      "(362, 1)\n",
      "[0.56664687]\n"
     ]
    },
    {
     "data": {
      "text/plain": [
       "array([[0.07454016],\n",
       "       [0.05805193],\n",
       "       [0.04521089],\n",
       "       [0.03521028],\n",
       "       [0.01998522]])"
      ]
     },
     "execution_count": 7,
     "metadata": {},
     "output_type": "execute_result"
    }
   ],
   "source": [
    "# Predict\n",
    "import pickle\n",
    "nn_params = pickle.load(open('./model-sklearn-0.20.0/aax_aag_nn.pkl', 'rb'), \n",
    "                        encoding='latin1')\n",
    "mh_scores = __nn_function(nn_params, pred_input)\n",
    "mh_scores = mh_scores.reshape(mh_scores.shape[0], 1)\n",
    "Js = del_lens.reshape(del_lens.shape[0], 1)\n",
    "unfq = np.exp(mh_scores - 0.25*Js)\n",
    "\n",
    "# unfq = unnormalized_fq = exp(y - 0.25*del_len)\n",
    "# and, normalized_frq = unfq / sum(unfq)\n",
    "\n",
    "print(unfq.shape)\n",
    "print(sum(unfq))\n",
    "unfq[0:5]"
   ]
  },
  {
   "cell_type": "markdown",
   "metadata": {},
   "source": [
    "Below is the main loss function for `inDelphi` neural network, with my annotations.\n",
    "\n",
    "In a nutshell, the neural network aims to optimize two things at the same time with the same weight:\n",
    "- First is the context-specific MH deletion lengths. This part is predicted by MH-directed model based on deletion-length + GC fraction, and further, mixed with MH-less deletion for that particular length\n",
    "- Second is the merged Deletion Length frequency. This label is computed by merging all observed outcomes without the consideration of sequence contexts. The prediction is computed by merging MH-directed predictions in the first part, plus MH-less.\n",
    "\n",
    "\n",
    "Some additional notes:\n",
    "- The raw `main_objective` is here: https://github.com/maxwshen/indelphi-dataprocessinganalysis/blob/master/src-modeling-and-analysis/d2_model.py#L61\n",
    "\n",
    "- Definition of `dl_freq`: https://github.com/maxwshen/indelphi-dataprocessinganalysis/blob/master/src-modeling-and-analysis/c2_model_dataset.py#L57"
   ]
  },
  {
   "cell_type": "code",
   "execution_count": 8,
   "metadata": {},
   "outputs": [],
   "source": [
    "def main_objective(nn_params, nn2_params, inp, obs, obs2, del_lens, num_samples, rs):\n",
    "  \"\"\"Below is my annotation:\n",
    "  nn_params : list/tuple of weights and bias for neural network 1; mh deletion\n",
    "  nn2_params : list/tuple of weights and bias for neural network 2; mh-less deletion\n",
    "  inp : inputs; (del_len, gc_frac)\n",
    "  obs : frequencies/freqs ; seems to be the raw observed frequency\n",
    "  obs2 : dl_fq ; deletion length that merges different contexts with the same deletion length\n",
    "      Loss is computed as the negative pearson correlation of obs vs pred + obs2 vs pred2\n",
    "  del_lens : np.array of deletion lengths\n",
    "  num_samples :\n",
    "  rs :\n",
    "  \"\"\"\n",
    "\n",
    "  LOSS = 0\n",
    "  for idx in range(len(inp)):\n",
    "\n",
    "    ##\n",
    "    # MH-based deletion frequencies\n",
    "    ##\n",
    "    \n",
    "    # zzj : nn_match_function will output model predictions based on weight/bias;\n",
    "    # I will denote by y\n",
    "    mh_scores = nn_match_score_function(nn_params, inp[idx])\n",
    "    Js = np.array(del_lens[idx])\n",
    "    \n",
    "    # zzj : unfq = exp(y - 0.25*del_len)\n",
    "    unnormalized_fq = np.exp(mh_scores - 0.25*Js)\n",
    "    \n",
    "    # Add MH-less contribution to MH prediction for full MH deletion length prediction\n",
    "    \n",
    "    # zzj : similar to mh_scores, but use nn2_params and only del_lens as inputs\n",
    "    # zzj : note- mthe calculation is done by adding mh unfq + mh-less unfq\n",
    "    mh_vector = inp[idx].T[0] # zzj : mh_vector is the deletion-lengths; second row would be gc_frac\n",
    "    mhfull_contribution = np.zeros(mh_vector.shape)\n",
    "    for jdx in range(len(mh_vector)):\n",
    "      # zzj : do not know why this condition will ever be violated? They do have two different columns, \n",
    "      # one for mh_len, another for del_len\n",
    "      if del_lens[idx][jdx] == mh_vector[jdx]: \n",
    "        dl = del_lens[idx][jdx]\n",
    "        mhless_score = nn_match_score_function(nn2_params, np.array(dl))\n",
    "        mhless_score = np.exp(mhless_score - 0.25*dl)\n",
    "        \n",
    "        # zzj : mask only adds the mh-less phi score to the j-th index, and pad zeros to left and right\n",
    "        # zzj : here might be double-counting issues? Why add mh-less to every deletion-length == dl?\n",
    "        # zzj : but maybe got normalized in the end??\n",
    "        mask = np.concatenate([np.zeros(jdx,), np.ones(1,) * mhless_score, np.zeros(len(mh_vector) - jdx - 1,)])\n",
    "        mhfull_contribution = mhfull_contribution + mask\n",
    "    unnormalized_fq = unnormalized_fq + mhfull_contribution\n",
    "    normalized_fq = np.divide(unnormalized_fq, np.sum(unnormalized_fq))\n",
    "\n",
    "    # Pearson correlation squared loss\n",
    "    x_mean = np.mean(normalized_fq)\n",
    "    y_mean = np.mean(obs[idx])\n",
    "    pearson_numerator = np.sum((normalized_fq - x_mean)*(obs[idx] - y_mean))\n",
    "    pearson_denom_x = np.sqrt(np.sum((normalized_fq - x_mean)**2))\n",
    "    pearson_denom_y = np.sqrt(np.sum((obs[idx] - y_mean)**2))\n",
    "    pearson_denom = pearson_denom_x * pearson_denom_y\n",
    "    rsq = (pearson_numerator/pearson_denom)**2\n",
    "    neg_rsq = rsq * -1\n",
    "    LOSS += neg_rsq\n",
    "\n",
    "    #\n",
    "    # I want to make sure nn2 never outputs anything negative. \n",
    "    # Sanity check during training.\n",
    "    #\n",
    "\n",
    "    ##\n",
    "    # Deletion length frequencies, only up to 28\n",
    "    #   (Restricts training to library data, else 27 bp.)\n",
    "    ##\n",
    "    \n",
    "    # zzj : NOW add the mh-less + mh for Deletion Length\n",
    "    # zzj : BUT only for <28 in length\n",
    "    dls = np.arange(1, 28+1)\n",
    "    dls = dls.reshape(28, 1)\n",
    "    nn2_scores = nn_match_score_function(nn2_params, dls)\n",
    "    unnormalized_nn2 = np.exp(nn2_scores - 0.25*np.arange(1, 28+1))\n",
    "\n",
    "    # iterate through del_lens vector, adding mh_scores (already computed above) to the correct index\n",
    "    # zzj : mh_scores are computed using nn_params in previous code:     \n",
    "    #mh_scores = nn_match_score_function(nn_params, inp[idx])\n",
    "    mh_contribution = np.zeros(28,)\n",
    "    for jdx in range(len(Js)):\n",
    "      # zzj :     Js = np.array(del_lens[idx])\n",
    "      dl = Js[jdx]\n",
    "      if dl > 28:\n",
    "        break\n",
    "      mhs = np.exp(mh_scores[jdx] - 0.25*dl)\n",
    "    \n",
    "      # zzj: the mask here is useful and means differently than before - this mask will make sure\n",
    "      # that different mh context will add to the same dl index in mh_contribution\n",
    "      mask = np.concatenate([np.zeros(dl - 1,), np.ones(1, ) * mhs, np.zeros(28 - (dl - 1) - 1,)])\n",
    "      mh_contribution = mh_contribution + mask\n",
    "    unnormalized_nn2 = unnormalized_nn2 + mh_contribution\n",
    "    normalized_fq = np.divide(unnormalized_nn2, np.sum(unnormalized_nn2))\n",
    "\n",
    "    # Pearson correlation squared loss\n",
    "    x_mean = np.mean(normalized_fq)\n",
    "    y_mean = np.mean(obs2[idx])\n",
    "    pearson_numerator = np.sum((normalized_fq - x_mean)*(obs2[idx] - y_mean))\n",
    "    pearson_denom_x = np.sqrt(np.sum((normalized_fq - x_mean)**2))\n",
    "    pearson_denom_y = np.sqrt(np.sum((obs2[idx] - y_mean)**2))\n",
    "    pearson_denom = pearson_denom_x * pearson_denom_y\n",
    "    rsq = (pearson_numerator/pearson_denom)**2\n",
    "    neg_rsq = rsq * -1\n",
    "    LOSS += neg_rsq\n",
    "\n",
    "    # L2-Loss\n",
    "    # LOSS += np.sum((normalized_fq - obs[idx])**2)\n",
    "  return LOSS / num_samples\n"
   ]
  },
  {
   "cell_type": "code",
   "execution_count": null,
   "metadata": {},
   "outputs": [],
   "source": []
  }
 ],
 "metadata": {
  "kernelspec": {
   "display_name": "Python 3",
   "language": "python",
   "name": "python3"
  },
  "language_info": {
   "codemirror_mode": {
    "name": "ipython",
    "version": 3
   },
   "file_extension": ".py",
   "mimetype": "text/x-python",
   "name": "python",
   "nbconvert_exporter": "python",
   "pygments_lexer": "ipython3",
   "version": "3.7.4"
  }
 },
 "nbformat": 4,
 "nbformat_minor": 2
}
